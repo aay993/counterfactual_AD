{
 "cells": [
  {
   "cell_type": "markdown",
   "metadata": {},
   "source": [
    "# Setup"
   ]
  },
  {
   "cell_type": "code",
   "execution_count": 1,
   "metadata": {},
   "outputs": [
    {
     "name": "stdout",
     "output_type": "stream",
     "text": [
      "The images path is: /Users/ahmedabdulaal/Documents/DSCM_debug/deepscm/assets/data/morphomnist/t10k-images-idx3-ubyte.gz, with a root directory of: /Users/ahmedabdulaal/Documents/DSCM_debug/deepscm/assets/data/morphomnist\n"
     ]
    }
   ],
   "source": [
    "%matplotlib inline\n",
    "\n",
    "from plotting_helper import plot_intervention_range"
   ]
  },
  {
   "cell_type": "markdown",
   "metadata": {},
   "source": [
    "# Plotting"
   ]
  },
  {
   "cell_type": "code",
   "execution_count": 17,
   "metadata": {},
   "outputs": [],
   "source": [
    "idx = 0\n",
    "model_name = 'ConditionalVISEM'\n",
    "\n",
    "interventions = [\n",
    "    {'thickness': 0.5},\n",
    "    {'thickness': 1.5},\n",
    "    {'thickness': 5.},\n",
    "    {'thickness': 7.},\n",
    "    {'intensity': 400.},\n",
    "    {'intensity': 64.}\n",
    "]\n",
    "\n",
    "plot_intervention_range(model_name, interventions, idx, normalise_all=True, num_samples=32)\n",
    "\n"
   ]
  }
 ],
 "metadata": {
  "interpreter": {
   "hash": "5b2d941514a809fd100566a5a62f858c2eee4de22466a9100ca20f2688897510"
  },
  "kernelspec": {
   "display_name": "Python 3.7.2 ('dscm_debug')",
   "language": "python",
   "name": "python3"
  },
  "language_info": {
   "codemirror_mode": {
    "name": "ipython",
    "version": 3
   },
   "file_extension": ".py",
   "mimetype": "text/x-python",
   "name": "python",
   "nbconvert_exporter": "python",
   "pygments_lexer": "ipython3",
   "version": "3.7.2"
  }
 },
 "nbformat": 4,
 "nbformat_minor": 2
}
