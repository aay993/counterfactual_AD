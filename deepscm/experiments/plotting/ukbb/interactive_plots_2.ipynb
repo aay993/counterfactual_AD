{
 "cells": [
  {
   "cell_type": "code",
   "execution_count": 1,
   "metadata": {},
   "outputs": [],
   "source": [
    "%matplotlib inline\n",
    "\n",
    "from plotting_helper import plot_gen_intervention_range, interactive_plot"
   ]
  },
  {
   "cell_type": "code",
   "execution_count": 13,
   "metadata": {},
   "outputs": [],
   "source": [
    "idx = 5\n",
    "model_name = 'ConditionalVISEM'\n",
    "\n",
    "interventions = [\n",
    "    {'sex': 1.},\n",
    "    {'age': 60.},\n",
    "    {'age': 90.},\n",
    "    {'brain_volume': 800000.},\n",
    "    {'brain_volume': 1600000.},\n",
    "    {'ventricle_volume': 110.},\n",
    "    {'ventricle_volume': 1100000.},\n",
    "    {'tau': 200.},\n",
    "    {'av45': 100.}, \n",
    "    {'education': 50.}, \n",
    "    {'moca': 20.}\n",
    "]\n",
    "\n",
    "plot_gen_intervention_range(model_name, interventions, idx, normalise_all=True, num_samples=32)"
   ]
  }
 ],
 "metadata": {
  "kernelspec": {
   "display_name": "Python 3.8.10 ('dscm')",
   "language": "python",
   "name": "python3"
  },
  "language_info": {
   "codemirror_mode": {
    "name": "ipython",
    "version": 3
   },
   "file_extension": ".py",
   "mimetype": "text/x-python",
   "name": "python",
   "nbconvert_exporter": "python",
   "pygments_lexer": "ipython3",
   "version": "3.8.10"
  },
  "orig_nbformat": 4,
  "vscode": {
   "interpreter": {
    "hash": "142ccf925348e6e849eb5106808af40cbad73a6d9b4e62251197a482f88424bd"
   }
  }
 },
 "nbformat": 4,
 "nbformat_minor": 2
}
