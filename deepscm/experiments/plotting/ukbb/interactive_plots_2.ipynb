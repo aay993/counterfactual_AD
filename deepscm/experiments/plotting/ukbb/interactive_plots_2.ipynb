{
 "cells": [
  {
   "cell_type": "code",
   "execution_count": 1,
   "metadata": {},
   "outputs": [],
   "source": [
    "%matplotlib inline\n",
    "\n",
    "from plotting_helper import plot_gen_intervention_range, interactive_plot\n",
    "\n",
    "idx = 5\n",
    "model_name = 'ConditionalVISEM'\n",
    "\n",
    "interventions = [\n",
    "    {'sex': 1.},\n",
    "    {'age': 40.},\n",
    "    {'age': 92.},\n",
    "    {'brain_volume': 1600000.},\n",
    "    {'brain_volume': 800000.},\n",
    "    {'ventricle_volume': 110.},\n",
    "    {'ventricle_volume': 400000.},\n",
    "    {'tau': 85.},\n",
    "    {'av45': 2.5}, \n",
    "    {'education': 20.}, \n",
    "    {'moca': 28.}\n",
    "]\n",
    "\n",
    "plot_gen_intervention_range(model_name, interventions, idx, normalise_all=True, num_samples=32)"
   ]
  },
  {
   "cell_type": "code",
   "execution_count": 6,
   "metadata": {},
   "outputs": [
    {
     "data": {
      "application/vnd.jupyter.widget-view+json": {
       "model_id": "d379bb54de2a44c398758ff44f161bee",
       "version_major": 2,
       "version_minor": 0
      },
      "text/plain": [
       "VBox(children=(IntSlider(value=0, description='Image #', max=4), VBox(children=(HBox(children=(FloatSlider(val…"
      ]
     },
     "metadata": {},
     "output_type": "display_data"
    }
   ],
   "source": [
    "%matplotlib inline\n",
    "\n",
    "from plotting_helper import plot_gen_intervention_range, interactive_plot\n",
    "model_name = 'ConditionalVISEM'\n",
    "interactive_plot(model_name)"
   ]
  },
  {
   "cell_type": "code",
   "execution_count": 1,
   "metadata": {},
   "outputs": [
    {
     "data": {
      "text/plain": [
       "<Figure size 720x720 with 0 Axes>"
      ]
     },
     "metadata": {},
     "output_type": "display_data"
    },
    {
     "data": {
      "image/png": "[encoded data removed]",
      "text/plain": [
       "<Figure size 209.764x238.11 with 1 Axes>"
      ]
     },
     "metadata": {},
     "output_type": "display_data"
    }
   ],
   "source": [
    "from causalgraphicalmodels import CausalGraphicalModel\n",
    "import daft\n",
    "import matplotlib.pyplot as plt \n",
    "plt.figure(figsize=(10, 10))\n",
    "gm_DAG = CausalGraphicalModel(\n",
    "    nodes=[\"ApoE\", \"pT\", \"av45\", 'x', 'Age', 'Vent', 'Sex', 'Moc', 'Edu', 'N'],\n",
    "    edges=[(\"ApoE\", \"av45\"), (\"av45\", \"CortV\"), (\"pT\", \"CortV\"), ('CortV', 'x'), ('Age', 'CortV'),\n",
    "    ('CortV', 'Vent'), ('Age', 'Vent'), ('Sex', 'CortV'), ('Vent', 'x'), ('CortV', 'Moc'), ('Edu', 'Moc'), ('Moc', 'x'),\n",
    "    ('N', 'x')\n",
    "    ]\n",
    ")\n",
    "coordinates = {\"ApoE\": (0, 0.5), \"av45\": (1, 1), \"CortV\": (1, 2), \"pT\": (2, 0.5), 'x': (1.5, 4), 'Age': (3, 0.5),\n",
    "'Vent': (2, 2), 'Sex': (0, 2), 'Moc': (0.7, 3), 'Edu': (0, 3), 'N': (2.5, 4)}\n",
    "pgm = daft.PGM()\n",
    "for node in gm_DAG.dag.nodes:\n",
    "    pgm.add_node(node, node, *coordinates[node])\n",
    "for edge in gm_DAG.dag.edges:\n",
    "    pgm.add_edge(*edge)\n",
    "with plt.rc_context({\"figure.constrained_layout.use\": False}):\n",
    "    pgm.render()\n",
    "plt.gca().invert_yaxis()"
   ]
  }
 ],
 "metadata": {
  "kernelspec": {
   "display_name": "Python 3.8.10 ('dscm': venv)",
   "language": "python",
   "name": "python3"
  },
  "language_info": {
   "codemirror_mode": {
    "name": "ipython",
    "version": 3
   },
   "file_extension": ".py",
   "mimetype": "text/x-python",
   "name": "python",
   "nbconvert_exporter": "python",
   "pygments_lexer": "ipython3",
   "version": "3.8.10"
  },
  "orig_nbformat": 4,
  "vscode": {
   "interpreter": {
    "hash": "142ccf925348e6e849eb5106808af40cbad73a6d9b4e62251197a482f88424bd"
   }
  }
 },
 "nbformat": 4,
 "nbformat_minor": 2
}
