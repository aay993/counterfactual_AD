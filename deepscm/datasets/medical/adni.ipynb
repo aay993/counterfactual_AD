{
 "cells": [
  {
   "cell_type": "code",
   "execution_count": 2,
   "metadata": {},
   "outputs": [],
   "source": [
    "import numpy as np \n",
    "import pandas as pd \n",
    "import os \n",
    "from PIL import Image \n",
    "from skimage.io import imread\n",
    "import torch \n",
    "from torch.utils.data.dataset import Dataset\n",
    "import torchvision as tv "
   ]
  },
  {
   "cell_type": "code",
   "execution_count": 3,
   "metadata": {},
   "outputs": [],
   "source": [
    "import matplotlib.pyplot as plt"
   ]
  },
  {
   "cell_type": "code",
   "execution_count": 4,
   "metadata": {},
   "outputs": [],
   "source": [
    "class ADNIDataset(Dataset): \n",
    "    def __init__(self, csv_path, base_path='/home/aay993/bias_corrected_registered_slices/', crop_type=None, crop_size=(192, 192), downsample: int = None):\n",
    "        super().__init__()\n",
    "        self.csv_path = csv_path \n",
    "        self.base_path = base_path\n",
    "\n",
    "        self.crop_type = crop_type\n",
    "        self.crop_size = crop_size\n",
    "\n",
    "        self.downsample = downsample\n",
    "\n",
    "        csv = pd.read_csv(csv_path)\n",
    "\n",
    "        #get the length of the dataset for __len__\n",
    "        self.num_items = len(csv)\n",
    "    \n",
    "        self.metrics = {col: torch.as_tensor(csv[col]).float() if col != 'PTID' else csv[col] for col in csv.columns} # For now just not even converting to tensors\n",
    "        \n",
    "\n",
    "    def __len__(self):\n",
    "        return self.num_items\n",
    "    \n",
    "    def __getitem__(self, index): \n",
    "        item = {col: values[index] for col, values in self.metrics.items()}\n",
    "\n",
    "        img_path = os.path.join(self.base_path, f'slice_{int(item[\"slice_number\"])}_bias_corrected_registered_ADNI_{item[\"PTID\"]}.png')\n",
    "        img = torch.tensor(imread(img_path, as_gray=True), dtype=torch.float32)\n",
    "        \n",
    "        # img = Image.open(img_path).convert('L')\n",
    "\n",
    "        # clip image border from PNG files \n",
    "        border_clip = 8 \n",
    "        img = img[border_clip:-border_clip, border_clip:-border_clip]\n",
    "        \n",
    "        transform_list = []\n",
    "        transform_list += [tv.transforms.ToPILImage()]\n",
    "        if self.crop_type is not None:\n",
    "            if self.crop_type == 'center':\n",
    "                transform_list += [tv.transforms.CenterCrop(self.crop_size)]\n",
    "            elif self.crop_type == 'random':\n",
    "                transform_list += [tv.transforms.RandomCrop(self.crop_size)]\n",
    "            else:\n",
    "                raise ValueError('unknwon crop type: {}'.format(self.crop_type))\n",
    "\n",
    "        if self.downsample is not None and self.downsample > 1:\n",
    "            transform_list += [tv.transforms.Resize(tuple(np.array(self.crop_size) // self.downsample))]\n",
    "\n",
    "        transform_list += [tv.transforms.ToTensor()]\n",
    "\n",
    "        img = tv.transforms.Compose(transform_list)(img)\n",
    "\n",
    "        item['image'] = img \n",
    "\n",
    "        return item "
   ]
  },
  {
   "cell_type": "code",
   "execution_count": 5,
   "metadata": {},
   "outputs": [
    {
     "name": "stdout",
     "output_type": "stream",
     "text": [
      "torch.Size([1, 1, 192, 192])\n",
      "{'PTID': ['016_S_5251'], 'AGE': tensor([66.1000]), 'PTGENDER': tensor([1.]), 'PTEDUCAT': tensor([16.]), 'APOE4': tensor([1.]), 'FDG': tensor([1.1985]), 'AV45': tensor([1.5072]), 'TAU': tensor([708.]), 'PTAU': tensor([70.4500]), 'CDRSB': tensor([2.5000]), 'ADAS11': tensor([12.]), 'ADAS13': tensor([18.]), 'ADASQ4': tensor([5.]), 'MMSE': tensor([26.]), 'RAVLT_immediate': tensor([28.]), 'RAVLT_learning': tensor([1.]), 'RAVLT_forgetting': tensor([4.]), 'RAVLT_perc_forgetting': tensor([80.]), 'LDELTOTAL': tensor([1.]), 'TRABSCOR': tensor([300.]), 'FAQ': tensor([15.]), 'MOCA': tensor([19.]), 'EcogPtMem': tensor([2.8571]), 'EcogPtLang': tensor([1.]), 'EcogPtVisspat': tensor([1.]), 'EcogPtPlan': tensor([1.2000]), 'EcogPtOrgan': tensor([1.]), 'EcogPtDivatt': tensor([1.]), 'EcogPtTotal': tensor([1.3889]), 'EcogSPMem': tensor([1.7500]), 'EcogSPLang': tensor([1.1111]), 'EcogSPVisspat': tensor([1.2857]), 'EcogSPPlan': tensor([1.8000]), 'EcogSPOrgan': tensor([2.]), 'EcogSPDivatt': tensor([1.]), 'EcogSPTotal': tensor([1.4872]), 'IMAGEUID': tensor([388021.]), 'Ventricles': tensor([33050.]), 'Hippocampus': tensor([5697.]), 'WholeBrain': tensor([874118.]), 'Entorhinal': tensor([2627.5056]), 'Fusiform': tensor([17610.5352]), 'MidTemp': tensor([16606.6914]), 'ICV': tensor([1267190.]), 'mPACCdigit': tensor([-10.1555]), 'mPACCtrailsB': tensor([-10.9107]), 'CDRSB_bl': tensor([2.5000]), 'ADAS11_bl': tensor([12.]), 'ADAS13_bl': tensor([18.]), 'ADASQ4_bl': tensor([5.]), 'MMSE_bl': tensor([26.]), 'RAVLT_immediate_bl': tensor([28.]), 'RAVLT_learning_bl': tensor([1.]), 'RAVLT_forgetting_bl': tensor([4.]), 'RAVLT_perc_forgetting_bl': tensor([80.]), 'LDELTOTAL_BL': tensor([1.]), 'DIGITSCOR_bl': tensor([115.5562]), 'TRABSCOR_bl': tensor([300.]), 'FAQ_bl': tensor([15.]), 'mPACCdigit_bl': tensor([-10.1555]), 'mPACCtrailsB_bl': tensor([-10.9107]), 'IMAGEUID_bl': tensor([388021.]), 'Ventricles_bl': tensor([33050.]), 'Hippocampus_bl': tensor([5697.]), 'WholeBrain_bl': tensor([874118.]), 'Entorhinal_bl': tensor([2589.6338]), 'Fusiform_bl': tensor([17750.6738]), 'MidTemp_bl': tensor([16540.3359]), 'ICV_bl': tensor([1267190.]), 'MOCA_bl': tensor([19.]), 'EcogPtMem_bl': tensor([2.8571]), 'EcogPtLang_bl': tensor([1.]), 'EcogPtVisspat_bl': tensor([1.]), 'EcogPtPlan_bl': tensor([1.2000]), 'EcogPtOrgan_bl': tensor([1.]), 'EcogPtDivatt_bl': tensor([1.]), 'EcogPtTotal_bl': tensor([1.3889]), 'EcogSPMem_bl': tensor([1.7500]), 'EcogSPLang_bl': tensor([1.1111]), 'EcogSPVisspat_bl': tensor([1.2857]), 'EcogSPPlan_bl': tensor([1.8000]), 'EcogSPOrgan_bl': tensor([2.]), 'EcogSPDivatt_bl': tensor([1.]), 'EcogSPTotal_bl': tensor([1.4872]), 'TAU_bl': tensor([708.]), 'PTAU_bl': tensor([70.4500]), 'FDG_bl': tensor([1.1985]), 'AV45_bl': tensor([1.5072]), 'Years_bl': tensor([0.]), 'Month_bl': tensor([0.]), 'Month': tensor([0.]), 'M': tensor([0.]), 'slice_number': tensor([7.]), 'image': tensor([[[[0., 0., 0.,  ..., 0., 0., 0.],\n",
      "          [0., 0., 0.,  ..., 0., 0., 0.],\n",
      "          [0., 0., 0.,  ..., 0., 0., 0.],\n",
      "          ...,\n",
      "          [0., 0., 0.,  ..., 0., 0., 0.],\n",
      "          [0., 0., 0.,  ..., 0., 0., 0.],\n",
      "          [0., 0., 0.,  ..., 0., 0., 0.]]]])}\n"
     ]
    },
    {
     "data": {
      "image/png": "[encoded data removed]",
      "text/plain": [
       "<Figure size 432x288 with 1 Axes>"
      ]
     },
     "metadata": {
      "needs_background": "light"
     },
     "output_type": "display_data"
    }
   ],
   "source": [
    "from torch.utils.data import DataLoader\n",
    "csv_path = '/home/aay993/full_imputed_clinical_covariates.csv'\n",
    "training = ADNIDataset(csv_path, crop_type='random', downsample=1)\n",
    "loader = DataLoader(training, batch_size=1, shuffle=True)\n",
    "\n",
    "test = next(iter(loader))\n",
    "# plt.imshow(test['image'])\n",
    "plt.imshow(test['image'].squeeze())\n",
    "print(test['image'].shape)\n",
    "print(test)"
   ]
  },
  {
   "cell_type": "code",
   "execution_count": 27,
   "metadata": {},
   "outputs": [
    {
     "data": {
      "text/plain": [
       "tensor(10.)"
      ]
     },
     "execution_count": 27,
     "metadata": {},
     "output_type": "execute_result"
    }
   ],
   "source": [
    "split_dir = '/home/aay993/'\n",
    "data_dir = '/home/aay993/bias_corrected_registered_slices/'\n",
    "downsample = 1\n",
    "\n",
    "# For now just using the same data for all three things \n",
    "adni_train = ADNIDataset(f'{split_dir}/full_imputed_clinical_covariates.csv', base_path=data_dir, crop_type='center', downsample=downsample)  # noqa: E501\n",
    "adni_val = ADNIDataset(f'{split_dir}/full_imputed_clinical_covariates.csv', base_path=data_dir, crop_type='center', downsample=downsample)\n",
    "adni_test = ADNIDataset(f'{split_dir}/full_imputed_clinical_covariates.csv', base_path=data_dir, crop_type='center', downsample=downsample)\n",
    "\n",
    "adni_train.metrics['slice_number'].max()\n"
   ]
  }
 ],
 "metadata": {
  "kernelspec": {
   "display_name": "Python 3.8.10 ('dscm')",
   "language": "python",
   "name": "python3"
  },
  "language_info": {
   "codemirror_mode": {
    "name": "ipython",
    "version": 3
   },
   "file_extension": ".py",
   "mimetype": "text/x-python",
   "name": "python",
   "nbconvert_exporter": "python",
   "pygments_lexer": "ipython3",
   "version": "3.8.10"
  },
  "orig_nbformat": 4,
  "vscode": {
   "interpreter": {
    "hash": "142ccf925348e6e849eb5106808af40cbad73a6d9b4e62251197a482f88424bd"
   }
  }
 },
 "nbformat": 4,
 "nbformat_minor": 2
}
