{
 "cells": [
  {
   "cell_type": "code",
   "execution_count": 1,
   "metadata": {},
   "outputs": [],
   "source": [
    "import numpy as np \n",
    "import pandas as pd \n",
    "import os \n",
    "from PIL import Image \n",
    "from skimage.io import imread\n",
    "import torch \n",
    "from torch.utils.data.dataset import Dataset\n",
    "import torchvision as tv \n",
    "\n",
    "class ADNIDataset(Dataset): \n",
    "    def __init__(self, csv_path, base_path='/home/aay993/bias_corrected_registered_slices/', crop_type=None, crop_size=(192, 192), downsample: int = None):\n",
    "        super().__init__()\n",
    "        self.csv_path = csv_path \n",
    "        self.base_path = base_path\n",
    "\n",
    "        self.crop_type = crop_type\n",
    "        self.crop_size = crop_size\n",
    "\n",
    "        self.downsample = downsample\n",
    "\n",
    "        csv = pd.read_csv(csv_path)\n",
    "\n",
    "        #get the length of the dataset for __len__\n",
    "        self.num_items = len(csv)\n",
    "    \n",
    "        self.metrics = {col: torch.as_tensor(csv[col]).float() if col != 'PTID' else csv[col] for col in csv.columns} \n",
    "        \n",
    "\n",
    "    def __len__(self):\n",
    "        return self.num_items\n",
    "    \n",
    "    def __getitem__(self, index): \n",
    "        item = {col: values[index] for col, values in self.metrics.items()}\n",
    "\n",
    "        img_path = os.path.join(self.base_path, f'slice_{int(item[\"slice_number\"])}_bias_corrected_registered_ADNI_{item[\"PTID\"]}.png')\n",
    "        img = torch.tensor(imread(img_path, as_gray=True), dtype=torch.float32)\n",
    "        \n",
    "        # You can also load the images directly using PIL but then you can't clip borders as easily\n",
    "        # img = Image.open(img_path).convert('L')\n",
    "\n",
    "        # clip image border from PNG files \n",
    "        border_clip = 8 \n",
    "        img = img[border_clip:-border_clip, border_clip:-border_clip]\n",
    "        \n",
    "        transform_list = []\n",
    "        transform_list += [tv.transforms.ToPILImage()]\n",
    "        if self.crop_type is not None:\n",
    "            if self.crop_type == 'center':\n",
    "                transform_list += [tv.transforms.CenterCrop(self.crop_size)]\n",
    "            elif self.crop_type == 'random':\n",
    "                transform_list += [tv.transforms.RandomCrop(self.crop_size)]\n",
    "            else:\n",
    "                raise ValueError('unknwon crop type: {}'.format(self.crop_type))\n",
    "\n",
    "        if self.downsample is not None and self.downsample > 1:\n",
    "            transform_list += [tv.transforms.Resize(tuple(np.array(self.crop_size) // self.downsample))]\n",
    "\n",
    "        transform_list += [tv.transforms.ToTensor()]\n",
    "\n",
    "        img = tv.transforms.Compose(transform_list)(img)\n",
    "\n",
    "        item['x'] = img # the 'x' here used to be 'image'\n",
    "\n",
    "        return item "
   ]
  },
  {
   "cell_type": "code",
   "execution_count": 62,
   "metadata": {},
   "outputs": [],
   "source": [
    "from torch.utils.data import DataLoader\n",
    "downsample = 3 \n",
    "split_dir = '/home/aay993/'\n",
    "data_dir = '/home/aay993/bias_corrected_registered_slices/'\n",
    "adni_val = ADNIDataset(f'{split_dir}/full_imputed_clinical_covariates.csv', base_path=data_dir, crop_type='center', downsample=downsample)\n",
    "test_batch_size = 20\n",
    "required_data = {'x', 'sex', 'age', 'ventricle_volume', 'brain_volume', 'tau', 'av45', \n",
    "        'moca', 'education', 'APOE4', 'slice_number'}\n",
    "torch_device = 'cuda'\n",
    "training = True \n",
    "\n",
    "def val_dataloader():\n",
    "    val_loader = DataLoader(adni_val, batch_size=test_batch_size, shuffle=False)\n",
    "    return val_loader\n",
    "\n",
    "def get_batch(loader):\n",
    "        batch = next(iter(loader))\n",
    "        batch = {k: v.to(torch_device) if isinstance(v, torch.Tensor) else v for k, v in batch.items()} #This might be more general-purpose \n",
    "        # if self.trainer.on_gpu:\n",
    "        # batch = self.trainer.accelerator_backend.to_device(batch, self.torch_device)\n",
    "        return batch\n",
    "\n",
    "def prep_batch(batch):\n",
    "        x = 255. * batch['x'].float()  # multiply by 255 b/c preprocess tfms\n",
    "        out = dict(x=x)\n",
    "        for k in required_data:\n",
    "            if k in batch and k != 'x':\n",
    "                out[k] = batch[k].unsqueeze(1).float()\n",
    "\n",
    "        # if training: \n",
    "        #     out['x'] += (torch.rand_like(out['x']) - 0.5)\n",
    "        \n",
    "        return out \n",
    "\n",
    "val_loader = val_dataloader()\n",
    "\n",
    "obs_batch = prep_batch(get_batch(val_loader))\n"
   ]
  },
  {
   "cell_type": "code",
   "execution_count": 63,
   "metadata": {},
   "outputs": [
    {
     "name": "stdout",
     "output_type": "stream",
     "text": [
      "torch.Size([20, 1, 64, 64])\n"
     ]
    }
   ],
   "source": [
    "print(obs_batch['x'].shape)"
   ]
  },
  {
   "cell_type": "code",
   "execution_count": 64,
   "metadata": {},
   "outputs": [],
   "source": [
    "obs_batch = {k: v[:8] for k, v in obs_batch.items()}"
   ]
  },
  {
   "cell_type": "code",
   "execution_count": 65,
   "metadata": {},
   "outputs": [
    {
     "name": "stdout",
     "output_type": "stream",
     "text": [
      "torch.Size([8, 1, 64, 64])\n"
     ]
    }
   ],
   "source": [
    "print(obs_batch['x'].shape)"
   ]
  },
  {
   "cell_type": "code",
   "execution_count": 66,
   "metadata": {},
   "outputs": [
    {
     "data": {
      "text/plain": [
       "<matplotlib.image.AxesImage at 0x7f0c2dda5af0>"
      ]
     },
     "execution_count": 66,
     "metadata": {},
     "output_type": "execute_result"
    },
    {
     "data": {
      "image/png": "[encoded data removed]",
      "text/plain": [
       "<Figure size 432x288 with 1 Axes>"
      ]
     },
     "metadata": {
      "needs_background": "light"
     },
     "output_type": "display_data"
    }
   ],
   "source": [
    "import matplotlib.pyplot as plt \n",
    "\n",
    "plt.imshow(obs_batch['x'][6].cpu().numpy().squeeze())"
   ]
  },
  {
   "cell_type": "code",
   "execution_count": 67,
   "metadata": {},
   "outputs": [],
   "source": [
    "import torchvision.utils\n",
    "def log_img_grid(tag, imgs, normalize=False, save_img=True, **kwargs):\n",
    "    imgs = imgs.clamp_(min=0., max=255.)\n",
    "    if save_img:\n",
    "        p = os.path.join(f'{tag}.png')\n",
    "        torchvision.utils.save_image(imgs, p)\n",
    "\n",
    "log_img_grid('testing', obs_batch['x'])"
   ]
  },
  {
   "cell_type": "code",
   "execution_count": 68,
   "metadata": {},
   "outputs": [
    {
     "data": {
      "text/plain": [
       "<matplotlib.image.AxesImage at 0x7f0c2ddf34c0>"
      ]
     },
     "execution_count": 68,
     "metadata": {},
     "output_type": "execute_result"
    },
    {
     "data": {
      "image/png": "[encoded data removed]",
      "text/plain": [
       "<Figure size 432x288 with 1 Axes>"
      ]
     },
     "metadata": {
      "needs_background": "light"
     },
     "output_type": "display_data"
    }
   ],
   "source": [
    "plt.imshow(obs_batch['x'][6].cpu().numpy().squeeze())"
   ]
  }
 ],
 "metadata": {
  "kernelspec": {
   "display_name": "Python 3.8.10 ('dscm')",
   "language": "python",
   "name": "python3"
  },
  "language_info": {
   "codemirror_mode": {
    "name": "ipython",
    "version": 3
   },
   "file_extension": ".py",
   "mimetype": "text/x-python",
   "name": "python",
   "nbconvert_exporter": "python",
   "pygments_lexer": "ipython3",
   "version": "3.8.10"
  },
  "orig_nbformat": 4,
  "vscode": {
   "interpreter": {
    "hash": "142ccf925348e6e849eb5106808af40cbad73a6d9b4e62251197a482f88424bd"
   }
  }
 },
 "nbformat": 4,
 "nbformat_minor": 2
}
